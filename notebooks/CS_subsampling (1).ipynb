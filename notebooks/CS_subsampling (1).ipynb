{
 "cells": [
  {
   "cell_type": "code",
   "execution_count": 1,
   "metadata": {
    "id": "FxVJ8hTfW9RM"
   },
   "outputs": [],
   "source": [
    "# getting the library that has some of the functions needed for simulations\n",
    "import numpy as np\n",
    "import matplotlib.pyplot as plt\n",
    "from numba import jit\n",
    "import time\n",
    "from numba import njit, prange\n",
    "import pandas as pd\n",
    "\n",
    "%matplotlib inline"
   ]
  },
  {
   "cell_type": "markdown",
   "metadata": {},
   "source": [
    "Functions defined earlier"
   ]
  },
  {
   "cell_type": "code",
   "execution_count": 8,
   "metadata": {
    "id": "vSissF-ZX2ca"
   },
   "outputs": [],
   "source": [
    "@jit(nopython=True)\n",
    "def cdf_inv_fr(u, gamma):\n",
    "  return ((pow(-np.log(u) , -gamma)))\n",
    "\n",
    "@jit(nopython=True)\n",
    "def cdf_inv_H(u , gamma, beta):\n",
    "  return (pow(-np.log(u)/(pow(beta , -1/gamma)-1) , -gamma) )\n",
    "\n",
    "@jit(nopython=True)\n",
    "def armax(beta , gamma, n):\n",
    "  x = np.zeros(n)\n",
    "  #r = np.random.RandomState(random_state)\n",
    "  u = np.random.uniform(0,1,1)[0]\n",
    "  x0 = cdf_inv_fr(u,gamma)\n",
    "  xi_lag = x0\n",
    "  x[0] = x0\n",
    "  #print(x0)\n",
    "  t = 1\n",
    "  for i in range(n-1):\n",
    "    #r2 = np.random.RandomState(random_state + i)\n",
    "    u = np.random.uniform(0,1,1)[0]\n",
    "    zi = cdf_inv_H(u,gamma,beta)\n",
    "    xi = beta*max(xi_lag , zi)\n",
    "    xi_lag = xi\n",
    "    x[t] = xi\n",
    "    t = t + 1\n",
    "    #print(zi)\n",
    "  return x"
   ]
  },
  {
   "cell_type": "code",
   "execution_count": 9,
   "metadata": {
    "id": "mDs2Cj8SYN6V"
   },
   "outputs": [],
   "source": [
    "@jit(nopython=True)\n",
    "def theta_n_k(X, n, k_=1):\n",
    "  sum = 0\n",
    "  k = int(k_)\n",
    "\n",
    "  X_k = np.partition(X, n-k-1)[n-k-1]\n",
    "  #if k <= 1:\n",
    "  # return 1\n",
    "\n",
    "  #X_k = max(X[n-k:n])\n",
    "  \n",
    "  for j in range(n-1):\n",
    "    # k-th top order equals n-k low order\n",
    "    if X[j] <= X_k and X[j+1] > X_k:\n",
    "      sum += 1\n",
    "\n",
    "  if k == 0:\n",
    "    return 1\n",
    "\n",
    "  #if sum/k >= 1:\n",
    "  #  return 1\n",
    "  return sum/k\n",
    "\n",
    "\n",
    "@jit(nopython=True)\n",
    "def theta_GJ_k(X, n, k, delta):\n",
    "  #n = X.shape[0]\n",
    "\n",
    "  numerator = (delta*delta + 1) * theta_n_k(X,n, int(np.floor(delta*k)) + 1) - delta*(theta_n_k(X, n, int(np.floor(delta*delta*k)) + 1) + theta_n_k(X, n, k))\n",
    "  denominator = (1 - delta)**2\n",
    "\n",
    "  if numerator < 0: \n",
    "    return 0\n",
    "\n",
    "  #return (numerator/denominator if numerator/denominator <= 1 else 1)\n",
    "  return numerator/denominator"
   ]
  },
  {
   "cell_type": "code",
   "execution_count": 10,
   "metadata": {
    "id": "Hlt24dyWYRFN"
   },
   "outputs": [],
   "source": [
    "@jit(nopython = True)\n",
    "def np_apply_along_axis(func1d, axis, arr):\n",
    "  assert arr.ndim == 2\n",
    "  assert axis in [0, 1]\n",
    "  if axis == 0:\n",
    "    result = np.empty(arr.shape[1])\n",
    "    for i in range(len(result)):\n",
    "      result[i] = func1d(arr[:, i])\n",
    "  else:\n",
    "    result = np.empty(arr.shape[0])\n",
    "    for i in range(len(result)):\n",
    "      result[i] = func1d(arr[i, :])\n",
    "  return result"
   ]
  },
  {
   "cell_type": "code",
   "execution_count": 11,
   "metadata": {
    "id": "X9AFLmskYTYO"
   },
   "outputs": [],
   "source": [
    "@jit(nopython=True)\n",
    "def simulate_mean_mse(n, theta, runs = 15, replicates = 10):\n",
    "  all_values_mean = np.zeros(n)\n",
    "  all_values_mse = np.zeros(n)\n",
    "\n",
    "  #print(\"Theta_N\", end = \"\")\n",
    "  for run in range(runs):\n",
    "    #print(\"\\nrun = \", run + 1, \"/\", runs ,\"...\", sep = \"\", end = \" \")\n",
    "    a = np.zeros((replicates, n))\n",
    "    for i in range(replicates):\n",
    "      a[i] = armax(1-theta, 1, n)\n",
    "  \n",
    "    path = np.zeros((replicates, n))\n",
    "    path2 = np.zeros((replicates, n))\n",
    "\n",
    "    k_range = list(range(n))\n",
    "\n",
    "    for k in k_range:\n",
    "      #if k%100 == 0:\n",
    "      #  print(int(k/100) + 1, end = \" \")\n",
    "      for j in range(replicates):\n",
    "        path[j][k] = theta_n_k(a[j], n, k)\n",
    "        path2[j][k] = (path[j][k] - theta)**2\n",
    "\n",
    "    #one_run_mean = np.mean(path, axis = 0)\n",
    "  \n",
    "    all_values_mean += np_apply_along_axis(np.mean, 0, path)\n",
    "    all_values_mse += np_apply_along_axis(np.mean, 0, path2)\n",
    "\n",
    "  return all_values_mean/runs, all_values_mse/runs"
   ]
  },
  {
   "cell_type": "code",
   "execution_count": 12,
   "metadata": {
    "id": "SJTYDZfTYVpg"
   },
   "outputs": [],
   "source": [
    "@jit(nopython=True)\n",
    "def simulate_mean_mse_GJ(n, theta, delta = 0.25, runs = 15, replicates = 10):\n",
    "  all_values_mean = np.zeros(n)\n",
    "  all_values_mse = np.zeros(n)\n",
    "\n",
    "  #print(\"Theta_N\", end = \"\")\n",
    "  for run in range(runs):\n",
    "    #print(\"\\nrun = \", run + 1, \"/\", runs ,\"...\", sep = \"\", end = \" \")\n",
    "    a = np.zeros((replicates, n))\n",
    "    for i in range(replicates):\n",
    "      a[i] = armax(1-theta, 1, n)\n",
    "  \n",
    "    path = np.zeros((replicates, n))\n",
    "    path2 = np.zeros((replicates, n))\n",
    "\n",
    "    k_range = list(range(n))\n",
    "\n",
    "    for k in k_range:\n",
    "      #if k%100 == 0:\n",
    "      #  print(int(k/100) + 1, end = \" \")\n",
    "      for j in range(replicates):\n",
    "        path[j][k] = theta_GJ_k(a[j], n, k, delta)\n",
    "        path2[j][k] = (path[j][k] - theta)**2\n",
    "\n",
    "    #one_run_mean = np.mean(path, axis = 0)\n",
    "  \n",
    "  all_values_mean += np_apply_along_axis(np.mean, 0, path)\n",
    "  all_values_mse += np_apply_along_axis(np.mean, 0, path2)\n",
    "\n",
    "  return all_values_mean/runs, all_values_mse/runs"
   ]
  },
  {
   "cell_type": "markdown",
   "metadata": {},
   "source": [
    "More information about functions in the file for fig 11"
   ]
  },
  {
   "cell_type": "code",
   "execution_count": 13,
   "metadata": {
    "id": "rV4oELXyYX--"
   },
   "outputs": [],
   "source": [
    "@njit\n",
    "def subsampling_GJ(X, n, theta, T = 2, delta = 0.25):\n",
    "  r = int(np.floor(n/T))\n",
    "\n",
    "  theta_Vi = np.zeros((T, r))\n",
    "\n",
    "  #X = armax(1- theta, 1, n)\n",
    "\n",
    "  for i in range(T):\n",
    "    V = X[i:(r-1)*T+i+1:T]\n",
    "\n",
    "    for j in range(1, r):\n",
    "      theta_Vi[i][j] = theta_GJ_k(V, V.shape[0], j, delta)\n",
    "\n",
    "  theta_sub = -1 * np.ones(n)  \n",
    "\n",
    "  for j in range(1, r):\n",
    "    #temp = 1 - np.power(abs(1 - theta_Vi[:,j]), 1/T).mean(axis = 0)\n",
    "    theta_sub[(j - 1)*T + 1] = 1 - ((np.power(1 - theta_Vi[:,j], 1/T)).mean())\n",
    "    theta_sub[np.isnan(theta_sub)] = 0\n",
    "  \n",
    "  for k in range(1, n):\n",
    "    if theta_sub[k] == -1:\n",
    "      theta_sub[k] = theta_sub[k-1]\n",
    "\n",
    "  return theta_sub"
   ]
  },
  {
   "cell_type": "code",
   "execution_count": 14,
   "metadata": {
    "id": "xZLkAzwwcDrA"
   },
   "outputs": [],
   "source": [
    "@njit\n",
    "def simulate_mean_mse_GJ_sub(n, T = 2, theta = 0.2, delta = 0.25, replicates = 10, runs = 15):\n",
    "  all_values_mean = np.zeros(n)\n",
    "  all_values_mse = np.zeros(n)\n",
    "\n",
    "  for run in range(runs):\n",
    "    #print(\"\\nrun = \", run + 1, \"/\", runs ,\"...\", sep = \"\", end = \" \")\n",
    "    a = np.zeros((replicates, n))\n",
    "    for i in range(replicates):\n",
    "      a[i] = armax(1-theta, 1, n)\n",
    "  \n",
    "    path = np.zeros((replicates, n))\n",
    "    path2 = np.zeros((replicates, n))\n",
    "\n",
    "    k_range = list(range(n))\n",
    "\n",
    "    \n",
    "    for j in range(replicates):\n",
    "      path[j] = subsampling_GJ(a[j], n, theta, T, delta)\n",
    "      path2[j] = np.power((path[j] - theta), 2)\n",
    "\n",
    "    #one_run_mean = np.mean(path, axis = 0)\n",
    "  \n",
    "    all_values_mean += np_apply_along_axis(np.mean, 0, path)\n",
    "    all_values_mse += np_apply_along_axis(np.mean, 0, path2)\n",
    "\n",
    "  return all_values_mean/runs, all_values_mse/runs"
   ]
  },
  {
   "cell_type": "code",
   "execution_count": 15,
   "metadata": {
    "id": "OVUTwy3-d6pF"
   },
   "outputs": [
    {
     "name": "stdout",
     "output_type": "stream",
     "text": [
      "Wall time: 6h 42min 56s\n"
     ]
    }
   ],
   "source": [
    "%%time\n",
    "# calculating\n",
    "runs = 1000\n",
    "replicates = 10\n",
    "n = 5000\n",
    "theta = 0.5\n",
    "delta = 0.25\n",
    "e_1000_5, mse_1000_5 = simulate_mean_mse(n, theta, runs = runs, replicates = replicates)\n",
    "e_1000_5_1, mse_1000_5_1 = simulate_mean_mse_GJ(n, theta, delta, runs = runs, replicates = replicates)\n",
    "e_1000_5_2, mse_1000_5_2 = simulate_mean_mse_GJ_sub(n, 2, theta, delta, replicates, runs)"
   ]
  },
  {
   "cell_type": "code",
   "execution_count": 17,
   "metadata": {
    "id": "lboAvz7cfRl_"
   },
   "outputs": [
    {
     "data": {
      "image/png": "[encoded data removed]",
      "text/plain": [
       "<Figure size 1440x576 with 2 Axes>"
      ]
     },
     "metadata": {
      "needs_background": "light"
     },
     "output_type": "display_data"
    }
   ],
   "source": [
    "# plotting\n",
    "alph = 0.5\n",
    "straight_line = theta*np.ones(n)\n",
    "k_range = np.arange(n)\n",
    "fig, axs = plt.subplots(1, 2, figsize = (20,8))\n",
    "\n",
    "fig.suptitle(\"Figure 10: Effect of subsampling in E[*] and MSE[*] for a Fretchet sequence (gamma = 1) and theta = \" + str(theta) + \" with subsampling\")\n",
    "#axs[0].set_ylim([0.18, 0.22])\n",
    "axs[0].set_xlim([0,n])\n",
    "axs[0].set_title(\"E[*]\")\n",
    "axs[0].plot(k_range, e_1000_5, 'k-', label = 'theta_N')\n",
    "axs[0].plot(k_range, e_1000_5_1, 'c-', label = 'theta_GJ')\n",
    "axs[0].plot(k_range, e_1000_5_2, 'r-', label = 'theta_sub, T = 2')\n",
    "axs[0].plot(k_range, straight_line, 'k--', label = str(theta))\n",
    "axs[0].legend(bbox_to_anchor=(1, 1))\n",
    "\n",
    "\n",
    "axs[1].set_ylim([0, 0.01])\n",
    "axs[1].set_xlim([0,n])\n",
    "axs[1].set_title(\"MSE[*]\")\n",
    "axs[1].plot(k_range, mse_1000_5, 'k-', label = 'theta_N')\n",
    "axs[1].plot(k_range, mse_1000_5_1, 'c-', label = 'theta_GJ')\n",
    "axs[1].plot(k_range, mse_1000_5_2, 'r-', label = 'theta_sub, T = 2')\n",
    "\n",
    "axs[1].legend(bbox_to_anchor=(1, 1))\n",
    "\n",
    "fig.subplots_adjust(wspace=0.5)"
   ]
  },
  {
   "cell_type": "code",
   "execution_count": null,
   "metadata": {},
   "outputs": [],
   "source": [
    "e_1000_1_1, mse_1000_1_1"
   ]
  }
 ],
 "metadata": {
  "colab": {
   "name": "CS_subsampling.ipynb",
   "provenance": []
  },
  "kernelspec": {
   "display_name": "Python 3",
   "language": "python",
   "name": "python3"
  },
  "language_info": {
   "codemirror_mode": {
    "name": "ipython",
    "version": 3
   },
   "file_extension": ".py",
   "mimetype": "text/x-python",
   "name": "python",
   "nbconvert_exporter": "python",
   "pygments_lexer": "ipython3",
   "version": "3.7.9"
  }
 },
 "nbformat": 4,
 "nbformat_minor": 1
}
