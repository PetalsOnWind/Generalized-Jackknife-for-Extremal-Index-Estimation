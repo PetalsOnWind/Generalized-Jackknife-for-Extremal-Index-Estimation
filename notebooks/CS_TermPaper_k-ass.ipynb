{
 "cells": [
  {
   "cell_type": "code",
   "execution_count": 3,
   "metadata": {},
   "outputs": [
    {
     "name": "stdout",
     "output_type": "stream",
     "text": [
      "n = 100 and theta = 0.2, k/n = 0.3816\n",
      "n = 100 and theta = 0.5, k/n = 0.2071\n",
      "n = 100 and theta = 0.8, k/n = 0.1156\n",
      "n = 200 and theta = 0.2, k/n = 0.3029\n",
      "n = 200 and theta = 0.5, k/n = 0.1644\n",
      "n = 200 and theta = 0.8, k/n = 0.0917\n",
      "n = 500 and theta = 0.2, k/n = 0.2231\n",
      "n = 500 and theta = 0.5, k/n = 0.1211\n",
      "n = 500 and theta = 0.8, k/n = 0.0676\n",
      "n = 1000 and theta = 0.2, k/n = 0.1771\n",
      "n = 1000 and theta = 0.5, k/n = 0.0961\n",
      "n = 1000 and theta = 0.8, k/n = 0.0536\n",
      "n = 2000 and theta = 0.2, k/n = 0.1406\n",
      "n = 2000 and theta = 0.5, k/n = 0.0763\n",
      "n = 2000 and theta = 0.8, k/n = 0.0426\n",
      "n = 5000 and theta = 0.2, k/n = 0.1036\n",
      "n = 5000 and theta = 0.5, k/n = 0.0562\n",
      "n = 5000 and theta = 0.8, k/n = 0.0314\n",
      "n = 10000 and theta = 0.2, k/n = 0.0822\n",
      "n = 10000 and theta = 0.5, k/n = 0.0446\n",
      "n = 10000 and theta = 0.8, k/n = 0.0249\n"
     ]
    }
   ],
   "source": [
    "ns = [100, 200, 500, 1000, 2000, 5000, 10000]\n",
    "thetas = [0.2, 0.5, 0.8]\n",
    "\n",
    "for n in ns:\n",
    "    for theta in thetas:\n",
    "        k = ((2*(1-theta)*n*n)/(theta*(1+theta)*(1+theta)))**(1/3)\n",
    "        print(\"n = {0} and theta = {1}, k/n = {2:.4f}\".format(n, theta, k/n))"
   ]
  },
  {
   "cell_type": "code",
   "execution_count": null,
   "metadata": {},
   "outputs": [],
   "source": []
  }
 ],
 "metadata": {
  "kernelspec": {
   "display_name": "Python 3",
   "language": "python",
   "name": "python3"
  },
  "language_info": {
   "codemirror_mode": {
    "name": "ipython",
    "version": 3
   },
   "file_extension": ".py",
   "mimetype": "text/x-python",
   "name": "python",
   "nbconvert_exporter": "python",
   "pygments_lexer": "ipython3",
   "version": "3.7.9"
  }
 },
 "nbformat": 4,
 "nbformat_minor": 4
}
